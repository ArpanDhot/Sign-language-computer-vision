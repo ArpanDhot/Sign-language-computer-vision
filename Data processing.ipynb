{
 "cells": [
  {
   "metadata": {
    "ExecuteTime": {
     "end_time": "2024-07-01T08:59:34.470367Z",
     "start_time": "2024-07-01T08:59:31.268073Z"
    }
   },
   "cell_type": "code",
   "source": [
    "import tensorflow as tf\n",
    "\n",
    "print(\"Num GPUs Available: \", len(tf.config.experimental.list_physical_devices('GPU')))\n"
   ],
   "id": "25a7d667b98d0ba0",
   "outputs": [
    {
     "name": "stdout",
     "output_type": "stream",
     "text": [
      "Num GPUs Available:  0\n"
     ]
    }
   ],
   "execution_count": 3
  },
  {
   "metadata": {},
   "cell_type": "markdown",
   "source": "Preprocessing the Data",
   "id": "139de5476dcaf008"
  },
  {
   "metadata": {},
   "cell_type": "code",
   "outputs": [],
   "execution_count": null,
   "source": [
    "import numpy as np\n",
    "import os\n",
    "from sklearn.model_selection import train_test_split\n",
    "from sklearn.preprocessing import LabelBinarizer\n",
    "\n",
    "def load_data(data_dir):\n",
    "    X = []\n",
    "    y = []\n",
    "    labels = sorted(os.listdir(data_dir))\n",
    "    \n",
    "    for label in labels:\n",
    "        label_dir = os.path.join(data_dir, label)\n",
    "        sequences = []\n",
    "        \n",
    "        for file in sorted(os.listdir(label_dir)):\n",
    "            if file.endswith('.npy'):\n",
    "                frame = np.load(os.path.join(label_dir, file))\n",
    "                sequences.append(frame)\n",
    "        \n",
    "        if sequences:\n",
    "            X.append(np.array(sequences))\n",
    "            y.append(label)\n",
    "    \n",
    "    return np.array(X), np.array(y)\n",
    "\n",
    "# Load and preprocess the data\n",
    "data_dir = 'data'\n",
    "X, y = load_data(data_dir)\n",
    "\n",
    "# Ensure there are enough samples to split\n",
    "if len(X) < 2:\n",
    "    raise ValueError(\"Not enough samples to split into training and testing sets.\")\n",
    "\n",
    "# Normalize the data\n",
    "X = X / np.max(X)\n",
    "\n",
    "# Encode labels\n",
    "lb = LabelBinarizer()\n",
    "y = lb.fit_transform(y)\n",
    "\n",
    "# Split the data\n",
    "X_train, X_test, y_train, y_test = train_test_split(X, y, test_size=0.2, random_state=42)\n",
    "\n",
    "print(f\"Training data shape: {X_train.shape}\")\n",
    "print(f\"Test data shape: {X_test.shape}\")\n",
    "print(f\"Labels shape: {y_train.shape}\")\n"
   ],
   "id": "46ac945803863528"
  },
  {
   "metadata": {},
   "cell_type": "markdown",
   "source": "Normalise data",
   "id": "68060331be39f729"
  },
  {
   "metadata": {},
   "cell_type": "code",
   "outputs": [],
   "execution_count": null,
   "source": [
    "import numpy as np\n",
    "import os\n",
    "from sklearn.model_selection import train_test_split\n",
    "from sklearn.preprocessing import LabelBinarizer\n",
    "\n",
    "def load_data(data_dir):\n",
    "    X = []\n",
    "    y = []\n",
    "    labels = sorted(os.listdir(data_dir))\n",
    "    \n",
    "    for label in labels:\n",
    "        label_dir = os.path.join(data_dir, label)\n",
    "        sequences = []\n",
    "        \n",
    "        for file in sorted(os.listdir(label_dir)):\n",
    "            if file.endswith('.npy'):\n",
    "                frame = np.load(os.path.join(label_dir, file))\n",
    "                sequences.append(frame)\n",
    "        \n",
    "        if sequences:\n",
    "            X.append(np.array(sequences))\n",
    "            y.append(label)\n",
    "    \n",
    "    return np.array(X), np.array(y)\n",
    "\n",
    "# Load and preprocess the data\n",
    "data_dir = 'data'\n",
    "X, y = load_data(data_dir)\n",
    "\n",
    "# Ensure there are enough samples to split\n",
    "if len(X) < 2:\n",
    "    raise ValueError(\"Not enough samples to split into training and testing sets.\")\n",
    "\n",
    "# Normalize the data\n",
    "X = X / np.max(X)\n",
    "\n",
    "# Encode labels\n",
    "lb = LabelBinarizer()\n",
    "y = lb.fit_transform(y)\n",
    "\n",
    "# Split the data\n",
    "X_train, X_test, y_train, y_test = train_test_split(X, y, test_size=0.2, random_state=42)\n",
    "\n",
    "print(f\"Training data shape: {X_train.shape}\")\n",
    "print(f\"Test data shape: {X_test.shape}\")\n",
    "print(f\"Labels shape: {y_train.shape}\")\n"
   ],
   "id": "c0c49123ae42b25d"
  },
  {
   "metadata": {},
   "cell_type": "markdown",
   "source": "Defining the Model",
   "id": "cb68aed5004e1bb0"
  },
  {
   "metadata": {},
   "cell_type": "code",
   "outputs": [],
   "execution_count": null,
   "source": [
    "import tensorflow as tf\n",
    "from tensorflow.keras import Sequential\n",
    "from tensorflow.keras.layers import Conv2D, MaxPooling2D, TimeDistributed, Flatten, LSTM, Dense, Dropout\n",
    "\n",
    "# Define the model\n",
    "model = Sequential([\n",
    "    TimeDistributed(Conv2D(32, (3, 3), activation='relu'), input_shape=(None, X_train.shape[2], X_train.shape[3], 1)),\n",
    "    TimeDistributed(MaxPooling2D((2, 2))),\n",
    "    TimeDistributed(Conv2D(64, (3, 3), activation='relu')),\n",
    "    TimeDistributed(MaxPooling2D((2, 2))),\n",
    "    TimeDistributed(Conv2D(128, (3, 3), activation='relu')),\n",
    "    TimeDistributed(MaxPooling2D((2, 2))),\n",
    "    TimeDistributed(Flatten()),\n",
    "    LSTM(128, return_sequences=True),\n",
    "    Dropout(0.5),\n",
    "    LSTM(128),\n",
    "    Dropout(0.5),\n",
    "    Dense(256, activation='relu'),\n",
    "    Dropout(0.5),\n",
    "    Dense(y_train.shape[1], activation='softmax')\n",
    "])\n",
    "\n",
    "# Compile the model\n",
    "model.compile(optimizer='adam', loss='categorical_crossentropy', metrics=['accuracy'])\n",
    "\n",
    "# Model summary\n",
    "model.summary()\n"
   ],
   "id": "9621b8ba6bd50598"
  },
  {
   "metadata": {},
   "cell_type": "markdown",
   "source": "Training the Model",
   "id": "f37157d0f8c7d0bd"
  },
  {
   "metadata": {},
   "cell_type": "code",
   "outputs": [],
   "execution_count": null,
   "source": [
    "# Train the model\n",
    "history = model.fit(X_train, y_train, epochs=50, batch_size=64, validation_data=(X_test, y_test))\n"
   ],
   "id": "bf2e3a14df4a972d"
  },
  {
   "metadata": {},
   "cell_type": "markdown",
   "source": "Evaluating the Model",
   "id": "db7d23a136f0405b"
  },
  {
   "metadata": {},
   "cell_type": "code",
   "outputs": [],
   "execution_count": null,
   "source": [
    "# Evaluate the model\n",
    "loss, accuracy = model.evaluate(X_test, y_test)\n",
    "print(f'Accuracy: {accuracy * 100:.2f}%')\n"
   ],
   "id": "9e80f2f762c3c0ab"
  },
  {
   "metadata": {},
   "cell_type": "markdown",
   "source": " Save the Model",
   "id": "ae7f3748c383471b"
  },
  {
   "metadata": {},
   "cell_type": "code",
   "outputs": [],
   "execution_count": null,
   "source": "model.save('complex_sign_language_model.h5')\n",
   "id": "fa5eca50956740c7"
  }
 ],
 "metadata": {
  "kernelspec": {
   "display_name": "Python 3",
   "language": "python",
   "name": "python3"
  },
  "language_info": {
   "codemirror_mode": {
    "name": "ipython",
    "version": 2
   },
   "file_extension": ".py",
   "mimetype": "text/x-python",
   "name": "python",
   "nbconvert_exporter": "python",
   "pygments_lexer": "ipython2",
   "version": "2.7.6"
  }
 },
 "nbformat": 4,
 "nbformat_minor": 5
}
