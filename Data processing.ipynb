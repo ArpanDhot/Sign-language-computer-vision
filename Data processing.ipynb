{
 "cells": [
  {
   "metadata": {
    "ExecuteTime": {
     "end_time": "2024-07-01T19:03:47.467300Z",
     "start_time": "2024-07-01T19:03:47.298863Z"
    }
   },
   "cell_type": "code",
   "source": [
    "import os\n",
    "import numpy as np\n",
    "from sklearn.preprocessing import LabelEncoder\n",
    "\n",
    "\n",
    "def load_data(data_dir):\n",
    "    data = []\n",
    "    labels = []\n",
    "    for label in os.listdir(data_dir):\n",
    "        label_dir = os.path.join(data_dir, label)\n",
    "        if os.path.isdir(label_dir):\n",
    "            frames = []\n",
    "            for file in sorted(os.listdir(label_dir)):\n",
    "                if file.endswith('.npy'):\n",
    "                    frame_data = np.load(os.path.join(label_dir, file))\n",
    "                    frames.append(frame_data)\n",
    "            data.append(frames)\n",
    "            labels.append(label)\n",
    "    return data, labels\n",
    "\n",
    "data_dir = 'data'  # Adjust this path\n",
    "data, labels = load_data(data_dir)\n",
    "\n",
    "def normalize_data(data):\n",
    "    normalized_data = []\n",
    "    for sequence in data:\n",
    "        norm_sequence = []\n",
    "        for frame in sequence:\n",
    "            norm_frame = (frame - np.min(frame, axis=0)) / (np.max(frame, axis=0) - np.min(frame, axis=0))\n",
    "            norm_sequence.append(norm_frame)\n",
    "        normalized_data.append(norm_sequence)\n",
    "    return normalized_data\n",
    "\n",
    "normalized_data = normalize_data(data)\n",
    "\n",
    "\n",
    "def pad_truncate_sequences(data, max_len):\n",
    "    padded_data = tf.keras.preprocessing.sequence.pad_sequences(data, maxlen=max_len, dtype='float32', padding='post', truncating='post')\n",
    "    return padded_data\n",
    "\n",
    "max_sequence_length = 150  # Set this to a reasonable number based on your data\n",
    "padded_data = pad_truncate_sequences(normalized_data, max_sequence_length)\n",
    "\n",
    "\n",
    "label_encoder = LabelEncoder()\n",
    "encoded_labels = label_encoder.fit_transform(labels)\n",
    "np.save('classes.npy', label_encoder.classes_)\n",
    "\n",
    "X_train = padded_data\n",
    "y_train = encoded_labels\n",
    "\n",
    "\n",
    "print(f'Training data shape: {X_train.shape}')\n",
    "print(f'Training labels shape: {y_train.shape}')\n"
   ],
   "id": "b88ef6fe7f620bd5",
   "outputs": [
    {
     "name": "stdout",
     "output_type": "stream",
     "text": [
      "Training data shape: (8, 150, 21, 3)\n",
      "Training labels shape: (8,)\n"
     ]
    }
   ],
   "execution_count": 24
  },
  {
   "metadata": {
    "ExecuteTime": {
     "end_time": "2024-07-01T19:04:28.168154Z",
     "start_time": "2024-07-01T19:04:22.269990Z"
    }
   },
   "cell_type": "code",
   "source": [
    "import tensorflow as tf\n",
    "from tensorflow.keras.layers import LSTM, Dense, TimeDistributed, LSTM, Input\n",
    "\n",
    "# Reshape the data to (batch_size, timesteps, features)\n",
    "X_reshaped = X_train.reshape((X_train.shape[0], X_train.shape[1], -1))\n",
    "\n",
    "# Define the LSTM model\n",
    "model = tf.keras.models.Sequential([\n",
    "    Input(shape=(X_reshaped.shape[1], X_reshaped.shape[2])),\n",
    "    LSTM(64, return_sequences=True),\n",
    "    LSTM(64),\n",
    "    Dense(64, activation='relu'),\n",
    "    Dense(len(label_encoder.classes_), activation='softmax')\n",
    "])\n",
    "\n",
    "model.compile(optimizer='adam', loss='sparse_categorical_crossentropy', metrics=['accuracy'])\n",
    "\n",
    "# Train the model on the entire dataset\n",
    "history = model.fit(X_reshaped, y_train, epochs=20)\n",
    "\n"
   ],
   "id": "4fca5eeb53ac4b14",
   "outputs": [
    {
     "name": "stdout",
     "output_type": "stream",
     "text": [
      "Epoch 1/20\n",
      "\u001B[1m1/1\u001B[0m \u001B[32m━━━━━━━━━━━━━━━━━━━━\u001B[0m\u001B[37m\u001B[0m \u001B[1m3s\u001B[0m 3s/step - accuracy: 0.1250 - loss: 2.0706\n",
      "Epoch 2/20\n",
      "\u001B[1m1/1\u001B[0m \u001B[32m━━━━━━━━━━━━━━━━━━━━\u001B[0m\u001B[37m\u001B[0m \u001B[1m0s\u001B[0m 132ms/step - accuracy: 0.0000e+00 - loss: 2.0361\n",
      "Epoch 3/20\n",
      "\u001B[1m1/1\u001B[0m \u001B[32m━━━━━━━━━━━━━━━━━━━━\u001B[0m\u001B[37m\u001B[0m \u001B[1m0s\u001B[0m 124ms/step - accuracy: 0.2500 - loss: 2.0026\n",
      "Epoch 4/20\n",
      "\u001B[1m1/1\u001B[0m \u001B[32m━━━━━━━━━━━━━━━━━━━━\u001B[0m\u001B[37m\u001B[0m \u001B[1m0s\u001B[0m 123ms/step - accuracy: 0.2500 - loss: 1.9702\n",
      "Epoch 5/20\n",
      "\u001B[1m1/1\u001B[0m \u001B[32m━━━━━━━━━━━━━━━━━━━━\u001B[0m\u001B[37m\u001B[0m \u001B[1m0s\u001B[0m 132ms/step - accuracy: 0.2500 - loss: 1.9391\n",
      "Epoch 6/20\n",
      "\u001B[1m1/1\u001B[0m \u001B[32m━━━━━━━━━━━━━━━━━━━━\u001B[0m\u001B[37m\u001B[0m \u001B[1m0s\u001B[0m 148ms/step - accuracy: 0.2500 - loss: 1.9105\n",
      "Epoch 7/20\n",
      "\u001B[1m1/1\u001B[0m \u001B[32m━━━━━━━━━━━━━━━━━━━━\u001B[0m\u001B[37m\u001B[0m \u001B[1m0s\u001B[0m 132ms/step - accuracy: 0.2500 - loss: 1.8844\n",
      "Epoch 8/20\n",
      "\u001B[1m1/1\u001B[0m \u001B[32m━━━━━━━━━━━━━━━━━━━━\u001B[0m\u001B[37m\u001B[0m \u001B[1m0s\u001B[0m 138ms/step - accuracy: 0.2500 - loss: 1.8638\n",
      "Epoch 9/20\n",
      "\u001B[1m1/1\u001B[0m \u001B[32m━━━━━━━━━━━━━━━━━━━━\u001B[0m\u001B[37m\u001B[0m \u001B[1m0s\u001B[0m 148ms/step - accuracy: 0.2500 - loss: 1.8488\n",
      "Epoch 10/20\n",
      "\u001B[1m1/1\u001B[0m \u001B[32m━━━━━━━━━━━━━━━━━━━━\u001B[0m\u001B[37m\u001B[0m \u001B[1m0s\u001B[0m 157ms/step - accuracy: 0.2500 - loss: 1.8379\n",
      "Epoch 11/20\n",
      "\u001B[1m1/1\u001B[0m \u001B[32m━━━━━━━━━━━━━━━━━━━━\u001B[0m\u001B[37m\u001B[0m \u001B[1m0s\u001B[0m 148ms/step - accuracy: 0.2500 - loss: 1.8294\n",
      "Epoch 12/20\n",
      "\u001B[1m1/1\u001B[0m \u001B[32m━━━━━━━━━━━━━━━━━━━━\u001B[0m\u001B[37m\u001B[0m \u001B[1m0s\u001B[0m 149ms/step - accuracy: 0.2500 - loss: 1.8226\n",
      "Epoch 13/20\n",
      "\u001B[1m1/1\u001B[0m \u001B[32m━━━━━━━━━━━━━━━━━━━━\u001B[0m\u001B[37m\u001B[0m \u001B[1m0s\u001B[0m 132ms/step - accuracy: 0.2500 - loss: 1.8164\n",
      "Epoch 14/20\n",
      "\u001B[1m1/1\u001B[0m \u001B[32m━━━━━━━━━━━━━━━━━━━━\u001B[0m\u001B[37m\u001B[0m \u001B[1m0s\u001B[0m 140ms/step - accuracy: 0.2500 - loss: 1.8085\n",
      "Epoch 15/20\n",
      "\u001B[1m1/1\u001B[0m \u001B[32m━━━━━━━━━━━━━━━━━━━━\u001B[0m\u001B[37m\u001B[0m \u001B[1m0s\u001B[0m 144ms/step - accuracy: 0.2500 - loss: 1.7992\n",
      "Epoch 16/20\n",
      "\u001B[1m1/1\u001B[0m \u001B[32m━━━━━━━━━━━━━━━━━━━━\u001B[0m\u001B[37m\u001B[0m \u001B[1m0s\u001B[0m 132ms/step - accuracy: 0.2500 - loss: 1.7902\n",
      "Epoch 17/20\n",
      "\u001B[1m1/1\u001B[0m \u001B[32m━━━━━━━━━━━━━━━━━━━━\u001B[0m\u001B[37m\u001B[0m \u001B[1m0s\u001B[0m 123ms/step - accuracy: 0.2500 - loss: 1.7795\n",
      "Epoch 18/20\n",
      "\u001B[1m1/1\u001B[0m \u001B[32m━━━━━━━━━━━━━━━━━━━━\u001B[0m\u001B[37m\u001B[0m \u001B[1m0s\u001B[0m 145ms/step - accuracy: 0.2500 - loss: 1.7598\n",
      "Epoch 19/20\n",
      "\u001B[1m1/1\u001B[0m \u001B[32m━━━━━━━━━━━━━━━━━━━━\u001B[0m\u001B[37m\u001B[0m \u001B[1m0s\u001B[0m 124ms/step - accuracy: 0.2500 - loss: 1.7445\n",
      "Epoch 20/20\n",
      "\u001B[1m1/1\u001B[0m \u001B[32m━━━━━━━━━━━━━━━━━━━━\u001B[0m\u001B[37m\u001B[0m \u001B[1m0s\u001B[0m 140ms/step - accuracy: 0.2500 - loss: 1.7222\n"
     ]
    }
   ],
   "execution_count": 25
  },
  {
   "metadata": {
    "ExecuteTime": {
     "end_time": "2024-07-01T19:04:28.217982Z",
     "start_time": "2024-07-01T19:04:28.168475Z"
    }
   },
   "cell_type": "code",
   "source": [
    "# Save the model in the recommended format\n",
    "model.save('sign_language_model.keras')\n",
    "\n",
    "print(\"Model training completed and saved as 'sign_language_model.keras'\")"
   ],
   "id": "deb140f8da8ec93",
   "outputs": [
    {
     "name": "stdout",
     "output_type": "stream",
     "text": [
      "Model training completed and saved as 'sign_language_model.keras'\n"
     ]
    }
   ],
   "execution_count": 26
  }
 ],
 "metadata": {
  "kernelspec": {
   "display_name": "Python 3",
   "language": "python",
   "name": "python3"
  },
  "language_info": {
   "codemirror_mode": {
    "name": "ipython",
    "version": 2
   },
   "file_extension": ".py",
   "mimetype": "text/x-python",
   "name": "python",
   "nbconvert_exporter": "python",
   "pygments_lexer": "ipython2",
   "version": "2.7.6"
  }
 },
 "nbformat": 4,
 "nbformat_minor": 5
}
